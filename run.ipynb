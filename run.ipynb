{
 "cells": [
  {
   "cell_type": "code",
   "execution_count": null,
   "metadata": {},
   "outputs": [],
   "source": [
    "import os\n",
    "from Code.fonctions.clip_otb_extractROI import script_otb_extractROI, get_images_path\n",
    "\n",
    "path = get_images_path(r\"E:\\Travail\\Stage_PNRBrenne\\Data\\Data_Sentinel\\S2_brut\")\n",
    "vectorfile = r\"E:\\Travail\\Stage_PNRBrenne\\Data\\data_PNR\\emprise_pnr\\emprise_pnr_brenne.sjp.shp\"\n",
    "output_file = r\"E:\\Travail\\Stage_PNRBrenne\\Data\\Data_Sentinel\\output_clip\"\n",
    "cmd = script_otb_extractROI(path, vectorfile,output_file)\n",
    "\n",
    "print(cmd)"
   ]
  },
  {
   "cell_type": "code",
   "execution_count": null,
   "metadata": {},
   "outputs": [],
   "source": [
    "from fonctions.my_function import rasterization\n",
    "import geopandas as gpd\n",
    "\n",
    "in_vector = r\"E:\\Stage_PNRBrenne\\Data\\data_PNR\\etangs_brenne\\PE_PNRB_2020v3.3_ANONYM.shp\"\n",
    "out_image = r\"E:\\Stage_PNRBrenne\\Data\\data_PNR\\masque_etang.tif\"\n",
    "field_name = \"code\"\n",
    "sp_resol = 10\n",
    "ref_image = r\"E:\\Stage_PNRBrenne\\Data\\data_PNR\\image_bonne_emprise.tif\"\n",
    "dtype = \"Byte\"\n",
    "\n",
    "rasterization(in_vector=in_vector, out_image=out_image, field_name=field_name, \n",
    "              sp_resol=sp_resol, ref_image=ref_image, dtype = dtype)"
   ]
  },
  {
   "cell_type": "code",
   "execution_count": null,
   "metadata": {},
   "outputs": [],
   "source": [
    "import fonctions.read_and_write as rw\n",
    "import os\n",
    "from fonctions.my_function import pre_traitement_img\n",
    "\n",
    "\n",
    "p_emprise = r\"E:\\Stage_PNRBrenne\\Data\\data_PNR\\emprise_pnr\\emprise_pnr_brenne.shp\"\n",
    "l_images = os.listdir(r\"E:\\Stage_PNRBrenne\\Data\\Data_Sentinel\\L3\\S2_brut\")\n",
    "input_raster_dir = r\"E:\\Stage_PNRBrenne\\Data\\Data_Sentinel\\L3\\S2_brut\"\n",
    "output_dir = r\"E:\\Stage_PNRBrenne\\Data\\Data_Sentinel\\L3\\S2_pre_trait_temp\"\n",
    "os.makedirs(output_dir, exist_ok=True)\n",
    "\n",
    "pre_traitement_img(p_emprise, l_images, input_raster_dir, output_dir)"
   ]
  },
  {
   "cell_type": "code",
   "execution_count": 2,
   "metadata": {},
   "outputs": [
    {
     "name": "stdout",
     "output_type": "stream",
     "text": [
      "📂 Chargement : SENTINEL2A_20201215-000000-000_L3A_T31TCM_C_V2-2_FRC_B11.tif (Bande B11, Date 2020-12-15)\n",
      "🔄 Rééchantillonnage de B11 à 10m...\n",
      "🎯 Image de référence : SENTINEL2A_20201215-000000-000_L3A_T31TCM_C_V2-2_FRC_B2.tif\n",
      "Application du masque SENTINEL2A_20201215-000000-000_L3A_T31TCM_C_V2-2_FLG_R1.tif\n",
      "🎯 Image de référence : SENTINEL2A_20201215-000000-000_L3A_T31TCM_C_V2-2_FRC_B2.tif\n",
      "🔄 Reprojection du raster vers EPSG:2154 avant clipping...\n",
      "✂️ Clipping avec le raster : /home/onyxia/work/data/masque_etangs.tif\n",
      "📂 Chargement : SENTINEL2A_20201215-000000-000_L3A_T31TCM_C_V2-2_FRC_B12.tif (Bande B12, Date 2020-12-15)\n",
      "🔄 Rééchantillonnage de B12 à 10m...\n",
      "🎯 Image de référence : SENTINEL2A_20201215-000000-000_L3A_T31TCM_C_V2-2_FRC_B2.tif\n",
      "Application du masque SENTINEL2A_20201215-000000-000_L3A_T31TCM_C_V2-2_FLG_R1.tif\n",
      "🎯 Image de référence : SENTINEL2A_20201215-000000-000_L3A_T31TCM_C_V2-2_FRC_B2.tif\n",
      "🔄 Reprojection du raster vers EPSG:2154 avant clipping...\n",
      "✂️ Clipping avec le raster : /home/onyxia/work/data/masque_etangs.tif\n",
      "📂 Chargement : SENTINEL2A_20201215-000000-000_L3A_T31TCM_C_V2-2_FRC_B2.tif (Bande B2, Date 2020-12-15)\n",
      "🔄 Rééchantillonnage de B2 à 10m...\n",
      "🎯 Image de référence : SENTINEL2A_20201215-000000-000_L3A_T31TCM_C_V2-2_FRC_B2.tif\n",
      "Application du masque SENTINEL2A_20201215-000000-000_L3A_T31TCM_C_V2-2_FLG_R1.tif\n",
      "🎯 Image de référence : SENTINEL2A_20201215-000000-000_L3A_T31TCM_C_V2-2_FRC_B2.tif\n",
      "🔄 Reprojection du raster vers EPSG:2154 avant clipping...\n",
      "✂️ Clipping avec le raster : /home/onyxia/work/data/masque_etangs.tif\n",
      "📂 Chargement : SENTINEL2A_20201215-000000-000_L3A_T31TCM_C_V2-2_FRC_B3.tif (Bande B3, Date 2020-12-15)\n",
      "🔄 Rééchantillonnage de B3 à 10m...\n",
      "🎯 Image de référence : SENTINEL2A_20201215-000000-000_L3A_T31TCM_C_V2-2_FRC_B2.tif\n",
      "Application du masque SENTINEL2A_20201215-000000-000_L3A_T31TCM_C_V2-2_FLG_R1.tif\n",
      "🎯 Image de référence : SENTINEL2A_20201215-000000-000_L3A_T31TCM_C_V2-2_FRC_B2.tif\n",
      "🔄 Reprojection du raster vers EPSG:2154 avant clipping...\n",
      "✂️ Clipping avec le raster : /home/onyxia/work/data/masque_etangs.tif\n",
      "📂 Chargement : SENTINEL2A_20201215-000000-000_L3A_T31TCM_C_V2-2_FRC_B4.tif (Bande B4, Date 2020-12-15)\n",
      "🔄 Rééchantillonnage de B4 à 10m...\n",
      "🎯 Image de référence : SENTINEL2A_20201215-000000-000_L3A_T31TCM_C_V2-2_FRC_B2.tif\n",
      "Application du masque SENTINEL2A_20201215-000000-000_L3A_T31TCM_C_V2-2_FLG_R1.tif\n",
      "🎯 Image de référence : SENTINEL2A_20201215-000000-000_L3A_T31TCM_C_V2-2_FRC_B2.tif\n",
      "🔄 Reprojection du raster vers EPSG:2154 avant clipping...\n",
      "✂️ Clipping avec le raster : /home/onyxia/work/data/masque_etangs.tif\n",
      "📂 Chargement : SENTINEL2A_20201215-000000-000_L3A_T31TCM_C_V2-2_FRC_B5.tif (Bande B5, Date 2020-12-15)\n",
      "🔄 Rééchantillonnage de B5 à 10m...\n",
      "🎯 Image de référence : SENTINEL2A_20201215-000000-000_L3A_T31TCM_C_V2-2_FRC_B2.tif\n",
      "Application du masque SENTINEL2A_20201215-000000-000_L3A_T31TCM_C_V2-2_FLG_R1.tif\n",
      "🎯 Image de référence : SENTINEL2A_20201215-000000-000_L3A_T31TCM_C_V2-2_FRC_B2.tif\n",
      "🔄 Reprojection du raster vers EPSG:2154 avant clipping...\n",
      "✂️ Clipping avec le raster : /home/onyxia/work/data/masque_etangs.tif\n",
      "📂 Chargement : SENTINEL2A_20201215-000000-000_L3A_T31TCM_C_V2-2_FRC_B6.tif (Bande B6, Date 2020-12-15)\n",
      "🔄 Rééchantillonnage de B6 à 10m...\n",
      "🎯 Image de référence : SENTINEL2A_20201215-000000-000_L3A_T31TCM_C_V2-2_FRC_B2.tif\n",
      "Application du masque SENTINEL2A_20201215-000000-000_L3A_T31TCM_C_V2-2_FLG_R1.tif\n",
      "🎯 Image de référence : SENTINEL2A_20201215-000000-000_L3A_T31TCM_C_V2-2_FRC_B2.tif\n",
      "🔄 Reprojection du raster vers EPSG:2154 avant clipping...\n",
      "✂️ Clipping avec le raster : /home/onyxia/work/data/masque_etangs.tif\n",
      "📂 Chargement : SENTINEL2A_20201215-000000-000_L3A_T31TCM_C_V2-2_FRC_B7.tif (Bande B7, Date 2020-12-15)\n",
      "🔄 Rééchantillonnage de B7 à 10m...\n",
      "🎯 Image de référence : SENTINEL2A_20201215-000000-000_L3A_T31TCM_C_V2-2_FRC_B2.tif\n",
      "Application du masque SENTINEL2A_20201215-000000-000_L3A_T31TCM_C_V2-2_FLG_R1.tif\n",
      "🎯 Image de référence : SENTINEL2A_20201215-000000-000_L3A_T31TCM_C_V2-2_FRC_B2.tif\n",
      "🔄 Reprojection du raster vers EPSG:2154 avant clipping...\n",
      "✂️ Clipping avec le raster : /home/onyxia/work/data/masque_etangs.tif\n",
      "📂 Chargement : SENTINEL2A_20201215-000000-000_L3A_T31TCM_C_V2-2_FRC_B8.tif (Bande B8, Date 2020-12-15)\n",
      "🔄 Rééchantillonnage de B8 à 10m...\n",
      "🎯 Image de référence : SENTINEL2A_20201215-000000-000_L3A_T31TCM_C_V2-2_FRC_B2.tif\n",
      "Application du masque SENTINEL2A_20201215-000000-000_L3A_T31TCM_C_V2-2_FLG_R1.tif\n",
      "🎯 Image de référence : SENTINEL2A_20201215-000000-000_L3A_T31TCM_C_V2-2_FRC_B2.tif\n",
      "🔄 Reprojection du raster vers EPSG:2154 avant clipping...\n",
      "✂️ Clipping avec le raster : /home/onyxia/work/data/masque_etangs.tif\n",
      "📂 Chargement : SENTINEL2A_20201215-000000-000_L3A_T31TCM_C_V2-2_FRC_B8A.tif (Bande B8A, Date 2020-12-15)\n",
      "🔄 Rééchantillonnage de B8A à 10m...\n",
      "🎯 Image de référence : SENTINEL2A_20201215-000000-000_L3A_T31TCM_C_V2-2_FRC_B2.tif\n",
      "Application du masque SENTINEL2A_20201215-000000-000_L3A_T31TCM_C_V2-2_FLG_R1.tif\n",
      "🎯 Image de référence : SENTINEL2A_20201215-000000-000_L3A_T31TCM_C_V2-2_FRC_B2.tif\n",
      "🔄 Reprojection du raster vers EPSG:2154 avant clipping...\n",
      "✂️ Clipping avec le raster : /home/onyxia/work/data/masque_etangs.tif\n"
     ]
    }
   ],
   "source": [
    "# Pour associer les images L3 en un netcdf\n",
    "\n",
    "from fonctions.sentinel_processor import SentinelProcessor\n",
    "import glob\n",
    "from pathlib import Path\n",
    "import natsort\n",
    "from collections import OrderedDict\n",
    "import os\n",
    "\n",
    "in_dir = \"/home/onyxia/work/L3/in_dir\"\n",
    "path_list = sorted(glob.glob(pathname=os.path.join(in_dir,\"**/*FRC*.tif\"), recursive=True))\n",
    "\n",
    "output_path = \"/home/onyxia/work/L3/out_dir/S2_L3_2020.nc\"\n",
    "bb_path = \"/home/onyxia/work/data/masque_etangs.tif\"\n",
    "custom_chunks = {\"x\": 100, \"y\": 100, \"time\": 1}\n",
    "target_crs = \"EPSG:2154\"\n",
    "processor = SentinelProcessor(\n",
    "    file_list=path_list[:10], \n",
    "    dir_global=in_dir, \n",
    "    output_path=output_path, \n",
    "    crs=target_crs,\n",
    "    clip_ref=bb_path)\n",
    "array = processor.build_dataset(chunking=\"auto\")\n",
    "# processor.save_dataset()"
   ]
  },
  {
   "cell_type": "code",
   "execution_count": null,
   "metadata": {},
   "outputs": [],
   "source": [
    "import rioxarray as rio\n",
    "clip = rio.open_rasterio(\"/home/onyxia/work/data/masque_etangs.tif\")\n",
    "b_to_clip = rio.open_rasterio(\"/home/onyxia/work/L3/in_dir/SENTINEL2A_20201215-000000-000_L3A_T31TCM_C_V2-2/SENTINEL2A_20201215-000000-000_L3A_T31TCM_C_V2-2_FRC_B2.tif\")\n",
    "b_to_clip"
   ]
  },
  {
   "cell_type": "code",
   "execution_count": null,
   "metadata": {},
   "outputs": [],
   "source": [
    "clip.rio.crs.to_string()"
   ]
  },
  {
   "cell_type": "code",
   "execution_count": null,
   "metadata": {},
   "outputs": [],
   "source": []
  }
 ],
 "metadata": {
  "kernelspec": {
   "display_name": "base",
   "language": "python",
   "name": "python3"
  },
  "language_info": {
   "codemirror_mode": {
    "name": "ipython",
    "version": 3
   },
   "file_extension": ".py",
   "mimetype": "text/x-python",
   "name": "python",
   "nbconvert_exporter": "python",
   "pygments_lexer": "ipython3",
   "version": "3.12.9"
  }
 },
 "nbformat": 4,
 "nbformat_minor": 2
}
