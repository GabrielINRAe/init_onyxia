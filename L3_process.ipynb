{
 "cells": [
  {
   "cell_type": "code",
   "execution_count": null,
   "metadata": {},
   "outputs": [],
   "source": [
    "import xarray as xr\n",
    "import rioxarray as rio\n",
    "import glob\n",
    "import os\n",
    "import geopandas as gpd\n",
    "import hvplot.xarray\n",
    "import holoviews as hv\n",
    "hv.extension(\"bokeh\")\n",
    "import numpy as np"
   ]
  },
  {
   "cell_type": "code",
   "execution_count": null,
   "metadata": {},
   "outputs": [],
   "source": [
    "# Ouverture des données soit depuis plusieurs fichiers soit depuis un seul déjà clip\n",
    "extent = xr.open_dataarray(\"/home/onyxia/work/data/masque_etangs.tif\").squeeze(\"band\",drop=True)\n",
    "extent_reduit = xr.open_dataarray(\"/home/onyxia/work/data/masque_etangs_reduit.tif\")\n",
    "time_serie = xr.open_dataset(\"/home/onyxia/work/L3/out_dir/S2_L3_2020.nc\")\n",
    "# time_serie_cliped = rio.open_rasterio(r\"E:\\Stage_PNRBrenne\\Data\\Data_Sentinel\\L3\\S2_concat\\S2_L3A_2020.nc\")"
   ]
  },
  {
   "cell_type": "code",
   "execution_count": null,
   "metadata": {},
   "outputs": [],
   "source": [
    "# Calcul MNDWI\n",
    "B3 = time_serie[\"B3\"]\n",
    "B12 = time_serie[\"B12\"]\n",
    "mndwi = (B3-B12)/(B3+B12)\n",
    "# mndwi.name = \"mndwi_2020\"\n",
    "# path_save = os.path.join(\"/home/onyxia/work/prod\",mndwi.name+\".nc\")\n",
    "# mndwi.to_netcdf(path_save)"
   ]
  },
  {
   "cell_type": "code",
   "execution_count": null,
   "metadata": {},
   "outputs": [],
   "source": [
    "resample = mndwi.resample(time=\"ME\").median(dim=\"time\",skipna=True)"
   ]
  },
  {
   "cell_type": "code",
   "execution_count": null,
   "metadata": {},
   "outputs": [],
   "source": [
    "# Application du masque étangs\n",
    "mndwi_mask = xr.where(extent == 1, resample, np.nan)\n",
    "mndwi = mndwi_mask"
   ]
  },
  {
   "cell_type": "code",
   "execution_count": null,
   "metadata": {},
   "outputs": [],
   "source": [
    "# Calcul NDVI\n",
    "B4 = time_serie[\"B4\"]\n",
    "B8 = time_serie[\"B8\"]\n",
    "ndvi = (B8-B4)/(B8+B4)\n",
    "# ndvi.name = \"ndvi_2020\"\n",
    "# path_save = os.path.join(\"/home/onyxia/work/prod\",ndvi.name+\".nc\")\n",
    "# ndvi.transpose(np.str_('time'), 'y', 'x').rio.to_raster(path_save)\n",
    "# ndvi.to_netcdf(path_save)"
   ]
  },
  {
   "cell_type": "code",
   "execution_count": null,
   "metadata": {},
   "outputs": [],
   "source": [
    "resample = ndvi.resample(time=\"ME\").median(dim=\"time\",skipna=True)"
   ]
  },
  {
   "cell_type": "code",
   "execution_count": null,
   "metadata": {},
   "outputs": [],
   "source": [
    "# Application du masque étangs\n",
    "ndvi_mask = xr.where(extent == 1, resample, np.nan)\n",
    "ndvi = ndvi_mask"
   ]
  },
  {
   "cell_type": "code",
   "execution_count": null,
   "metadata": {},
   "outputs": [],
   "source": [
    "mndwi.name = \"mndwi_2020\"\n",
    "ndvi.name = \"ndvi_2020\"\n",
    "path_save_m = os.path.join(\"/home/onyxia/work/prod\",mndwi.name+\".nc\")\n",
    "mndwi.to_netcdf(path_save_m)\n",
    "path_save_n = os.path.join(\"/home/onyxia/work/prod\",ndvi.name+\".nc\")\n",
    "ndvi.to_netcdf(path_save_n)"
   ]
  }
 ],
 "metadata": {
  "kernelspec": {
   "display_name": "base",
   "language": "python",
   "name": "python3"
  },
  "language_info": {
   "codemirror_mode": {
    "name": "ipython",
    "version": 3
   },
   "file_extension": ".py",
   "mimetype": "text/x-python",
   "name": "python",
   "nbconvert_exporter": "python",
   "pygments_lexer": "ipython3",
   "version": "3.12.9"
  }
 },
 "nbformat": 4,
 "nbformat_minor": 2
}
